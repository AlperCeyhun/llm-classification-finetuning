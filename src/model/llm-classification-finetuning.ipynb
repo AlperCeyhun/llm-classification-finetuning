{
 "cells": [
  {
   "cell_type": "code",
   "execution_count": null,
   "metadata": {},
   "outputs": [],
   "source": [
    "from datetime import datetime\n",
    "import matplotlib.pyplot as plt\n",
    "import numpy as np\n",
    "import pandas as pd\n",
    "import seaborn as sns\n",
    "from sklearn.feature_extraction.text import TfidfVectorizer\n",
    "from sklearn.linear_model import LogisticRegression\n",
    "from sklearn.metrics import confusion_matrix, precision_score, recall_score, log_loss\n",
    "from sklearn.model_selection import train_test_split"
   ]
  },
  {
   "cell_type": "code",
   "execution_count": 8,
   "metadata": {
    "execution": {
     "iopub.execute_input": "2025-05-26T18:21:03.280932Z",
     "iopub.status.busy": "2025-05-26T18:21:03.280656Z",
     "iopub.status.idle": "2025-05-26T18:21:09.435312Z",
     "shell.execute_reply": "2025-05-26T18:21:09.434352Z",
     "shell.execute_reply.started": "2025-05-26T18:21:03.280904Z"
    },
    "trusted": true
   },
   "outputs": [
    {
     "name": "stdout",
     "output_type": "stream",
     "text": [
      "Import Data Complete\n"
     ]
    }
   ],
   "source": [
    "# import the data\n",
    "training = pd.read_csv('train.csv')\n",
    "test = pd.read_csv('test.csv')\n",
    "\n",
    "training['train_test'] = 1\n",
    "test['train_test'] = 0\n",
    "all_data = pd.concat([training,test])\n",
    "\n",
    "print(\"Import Data Complete\")"
   ]
  },
  {
   "cell_type": "code",
   "execution_count": 9,
   "metadata": {
    "execution": {
     "iopub.execute_input": "2025-05-26T18:30:44.748580Z",
     "iopub.status.busy": "2025-05-26T18:30:44.748242Z",
     "iopub.status.idle": "2025-05-26T18:30:44.774925Z",
     "shell.execute_reply": "2025-05-26T18:30:44.774076Z",
     "shell.execute_reply.started": "2025-05-26T18:30:44.748555Z"
    },
    "trusted": true
   },
   "outputs": [
    {
     "data": {
      "text/html": [
       "<div>\n",
       "<style scoped>\n",
       "    .dataframe tbody tr th:only-of-type {\n",
       "        vertical-align: middle;\n",
       "    }\n",
       "\n",
       "    .dataframe tbody tr th {\n",
       "        vertical-align: top;\n",
       "    }\n",
       "\n",
       "    .dataframe thead th {\n",
       "        text-align: right;\n",
       "    }\n",
       "</style>\n",
       "<table border=\"1\" class=\"dataframe\">\n",
       "  <thead>\n",
       "    <tr style=\"text-align: right;\">\n",
       "      <th></th>\n",
       "      <th>id</th>\n",
       "      <th>model_a</th>\n",
       "      <th>model_b</th>\n",
       "      <th>prompt</th>\n",
       "      <th>response_a</th>\n",
       "      <th>response_b</th>\n",
       "      <th>winner_model_a</th>\n",
       "      <th>winner_model_b</th>\n",
       "      <th>winner_tie</th>\n",
       "      <th>train_test</th>\n",
       "    </tr>\n",
       "  </thead>\n",
       "  <tbody>\n",
       "    <tr>\n",
       "      <th>0</th>\n",
       "      <td>30192</td>\n",
       "      <td>gpt-4-1106-preview</td>\n",
       "      <td>gpt-4-0613</td>\n",
       "      <td>[\"Is it morally right to try to have a certain...</td>\n",
       "      <td>[\"The question of whether it is morally right ...</td>\n",
       "      <td>[\"As an AI, I don't have personal beliefs or o...</td>\n",
       "      <td>1</td>\n",
       "      <td>0</td>\n",
       "      <td>0</td>\n",
       "      <td>1</td>\n",
       "    </tr>\n",
       "    <tr>\n",
       "      <th>1</th>\n",
       "      <td>53567</td>\n",
       "      <td>koala-13b</td>\n",
       "      <td>gpt-4-0613</td>\n",
       "      <td>[\"What is the difference between marriage lice...</td>\n",
       "      <td>[\"A marriage license is a legal document that ...</td>\n",
       "      <td>[\"A marriage license and a marriage certificat...</td>\n",
       "      <td>0</td>\n",
       "      <td>1</td>\n",
       "      <td>0</td>\n",
       "      <td>1</td>\n",
       "    </tr>\n",
       "    <tr>\n",
       "      <th>2</th>\n",
       "      <td>65089</td>\n",
       "      <td>gpt-3.5-turbo-0613</td>\n",
       "      <td>mistral-medium</td>\n",
       "      <td>[\"explain function calling. how would you call...</td>\n",
       "      <td>[\"Function calling is the process of invoking ...</td>\n",
       "      <td>[\"Function calling is the process of invoking ...</td>\n",
       "      <td>0</td>\n",
       "      <td>0</td>\n",
       "      <td>1</td>\n",
       "      <td>1</td>\n",
       "    </tr>\n",
       "    <tr>\n",
       "      <th>3</th>\n",
       "      <td>96401</td>\n",
       "      <td>llama-2-13b-chat</td>\n",
       "      <td>mistral-7b-instruct</td>\n",
       "      <td>[\"How can I create a test set for a very rare ...</td>\n",
       "      <td>[\"Creating a test set for a very rare category...</td>\n",
       "      <td>[\"When building a classifier for a very rare c...</td>\n",
       "      <td>1</td>\n",
       "      <td>0</td>\n",
       "      <td>0</td>\n",
       "      <td>1</td>\n",
       "    </tr>\n",
       "    <tr>\n",
       "      <th>4</th>\n",
       "      <td>198779</td>\n",
       "      <td>koala-13b</td>\n",
       "      <td>gpt-3.5-turbo-0314</td>\n",
       "      <td>[\"What is the best way to travel from Tel-Aviv...</td>\n",
       "      <td>[\"The best way to travel from Tel Aviv to Jeru...</td>\n",
       "      <td>[\"The best way to travel from Tel-Aviv to Jeru...</td>\n",
       "      <td>0</td>\n",
       "      <td>1</td>\n",
       "      <td>0</td>\n",
       "      <td>1</td>\n",
       "    </tr>\n",
       "    <tr>\n",
       "      <th>5</th>\n",
       "      <td>292873</td>\n",
       "      <td>vicuna-13b</td>\n",
       "      <td>gpt-4-0314</td>\n",
       "      <td>[\"Construct a rap battle, in the style of Epic...</td>\n",
       "      <td>[\"[Zeus]\\nYo, it's the king of the gods on the...</td>\n",
       "      <td>[\"(Verse 1 - Zeus)\\n\\nI'm the king of the gods...</td>\n",
       "      <td>0</td>\n",
       "      <td>1</td>\n",
       "      <td>0</td>\n",
       "      <td>1</td>\n",
       "    </tr>\n",
       "    <tr>\n",
       "      <th>6</th>\n",
       "      <td>313413</td>\n",
       "      <td>mixtral-8x7b-instruct-v0.1</td>\n",
       "      <td>vicuna-13b</td>\n",
       "      <td>[\"Why water is not used in bath tub?\"]</td>\n",
       "      <td>[\"Water is actually used in a bath tub. A bath...</td>\n",
       "      <td>[\"Water is not used in a bath tub because it i...</td>\n",
       "      <td>1</td>\n",
       "      <td>0</td>\n",
       "      <td>0</td>\n",
       "      <td>1</td>\n",
       "    </tr>\n",
       "    <tr>\n",
       "      <th>7</th>\n",
       "      <td>370945</td>\n",
       "      <td>gemini-pro</td>\n",
       "      <td>claude-2.0</td>\n",
       "      <td>[\"\\\"Bacteria is life on Mars but a heartbeat i...</td>\n",
       "      <td>[\"Dune\"]</td>\n",
       "      <td>[\"This quote seems to be referencing the debat...</td>\n",
       "      <td>0</td>\n",
       "      <td>1</td>\n",
       "      <td>0</td>\n",
       "      <td>1</td>\n",
       "    </tr>\n",
       "    <tr>\n",
       "      <th>8</th>\n",
       "      <td>441448</td>\n",
       "      <td>gpt-3.5-turbo-0613</td>\n",
       "      <td>vicuna-13b</td>\n",
       "      <td>[\"translate to russian the followig sentence  ...</td>\n",
       "      <td>[\"\\u0411\\u043e\\u043b\\u044c\\u0448\\u0438\\u0435 \\...</td>\n",
       "      <td>[\"\\u0411\\u043e\\u043b\\u044c\\u0448\\u0438\\u0435 \\...</td>\n",
       "      <td>0</td>\n",
       "      <td>1</td>\n",
       "      <td>0</td>\n",
       "      <td>1</td>\n",
       "    </tr>\n",
       "    <tr>\n",
       "      <th>9</th>\n",
       "      <td>481524</td>\n",
       "      <td>gpt-4-0314</td>\n",
       "      <td>gpt-3.5-turbo-0613</td>\n",
       "      <td>[\"From now, you *always* have to talk as if yo...</td>\n",
       "      <td>[\"Hewwo! OwO I'm an AI assistant, here to hewp...</td>\n",
       "      <td>[\"Hewwo! I'm your new helpful assistant, owo! ...</td>\n",
       "      <td>0</td>\n",
       "      <td>1</td>\n",
       "      <td>0</td>\n",
       "      <td>1</td>\n",
       "    </tr>\n",
       "  </tbody>\n",
       "</table>\n",
       "</div>"
      ],
      "text/plain": [
       "       id                     model_a              model_b  \\\n",
       "0   30192          gpt-4-1106-preview           gpt-4-0613   \n",
       "1   53567                   koala-13b           gpt-4-0613   \n",
       "2   65089          gpt-3.5-turbo-0613       mistral-medium   \n",
       "3   96401            llama-2-13b-chat  mistral-7b-instruct   \n",
       "4  198779                   koala-13b   gpt-3.5-turbo-0314   \n",
       "5  292873                  vicuna-13b           gpt-4-0314   \n",
       "6  313413  mixtral-8x7b-instruct-v0.1           vicuna-13b   \n",
       "7  370945                  gemini-pro           claude-2.0   \n",
       "8  441448          gpt-3.5-turbo-0613           vicuna-13b   \n",
       "9  481524                  gpt-4-0314   gpt-3.5-turbo-0613   \n",
       "\n",
       "                                              prompt  \\\n",
       "0  [\"Is it morally right to try to have a certain...   \n",
       "1  [\"What is the difference between marriage lice...   \n",
       "2  [\"explain function calling. how would you call...   \n",
       "3  [\"How can I create a test set for a very rare ...   \n",
       "4  [\"What is the best way to travel from Tel-Aviv...   \n",
       "5  [\"Construct a rap battle, in the style of Epic...   \n",
       "6             [\"Why water is not used in bath tub?\"]   \n",
       "7  [\"\\\"Bacteria is life on Mars but a heartbeat i...   \n",
       "8  [\"translate to russian the followig sentence  ...   \n",
       "9  [\"From now, you *always* have to talk as if yo...   \n",
       "\n",
       "                                          response_a  \\\n",
       "0  [\"The question of whether it is morally right ...   \n",
       "1  [\"A marriage license is a legal document that ...   \n",
       "2  [\"Function calling is the process of invoking ...   \n",
       "3  [\"Creating a test set for a very rare category...   \n",
       "4  [\"The best way to travel from Tel Aviv to Jeru...   \n",
       "5  [\"[Zeus]\\nYo, it's the king of the gods on the...   \n",
       "6  [\"Water is actually used in a bath tub. A bath...   \n",
       "7                                           [\"Dune\"]   \n",
       "8  [\"\\u0411\\u043e\\u043b\\u044c\\u0448\\u0438\\u0435 \\...   \n",
       "9  [\"Hewwo! OwO I'm an AI assistant, here to hewp...   \n",
       "\n",
       "                                          response_b  winner_model_a  \\\n",
       "0  [\"As an AI, I don't have personal beliefs or o...               1   \n",
       "1  [\"A marriage license and a marriage certificat...               0   \n",
       "2  [\"Function calling is the process of invoking ...               0   \n",
       "3  [\"When building a classifier for a very rare c...               1   \n",
       "4  [\"The best way to travel from Tel-Aviv to Jeru...               0   \n",
       "5  [\"(Verse 1 - Zeus)\\n\\nI'm the king of the gods...               0   \n",
       "6  [\"Water is not used in a bath tub because it i...               1   \n",
       "7  [\"This quote seems to be referencing the debat...               0   \n",
       "8  [\"\\u0411\\u043e\\u043b\\u044c\\u0448\\u0438\\u0435 \\...               0   \n",
       "9  [\"Hewwo! I'm your new helpful assistant, owo! ...               0   \n",
       "\n",
       "   winner_model_b  winner_tie  train_test  \n",
       "0               0           0           1  \n",
       "1               1           0           1  \n",
       "2               0           1           1  \n",
       "3               0           0           1  \n",
       "4               1           0           1  \n",
       "5               1           0           1  \n",
       "6               0           0           1  \n",
       "7               1           0           1  \n",
       "8               1           0           1  \n",
       "9               1           0           1  "
      ]
     },
     "execution_count": 9,
     "metadata": {},
     "output_type": "execute_result"
    }
   ],
   "source": [
    "training.head(10)"
   ]
  },
  {
   "cell_type": "code",
   "execution_count": null,
   "metadata": {
    "execution": {
     "iopub.execute_input": "2025-05-26T18:31:14.265235Z",
     "iopub.status.busy": "2025-05-26T18:31:14.264914Z",
     "iopub.status.idle": "2025-05-26T18:31:53.546143Z",
     "shell.execute_reply": "2025-05-26T18:31:53.545190Z",
     "shell.execute_reply.started": "2025-05-26T18:31:14.265213Z"
    },
    "trusted": true
   },
   "outputs": [
    {
     "name": "stdout",
     "output_type": "stream",
     "text": [
      "Number of elements for the vectorizer representation for 'prompt': (57477, 150)\n",
      "Number of elements for the vectorizer representation for 'response a': (57477, 150)\n",
      "Number of elements for the vectorizer representation for 'response b': (57477, 150)\n"
     ]
    },
    {
     "name": "stderr",
     "output_type": "stream",
     "text": [
      "d:\\anaconda3\\Lib\\site-packages\\sklearn\\linear_model\\_logistic.py:1247: FutureWarning: 'multi_class' was deprecated in version 1.5 and will be removed in 1.7. From then on, it will always use 'multinomial'. Leave it to its default value to avoid this warning.\n",
      "  warnings.warn(\n"
     ]
    },
    {
     "name": "stdout",
     "output_type": "stream",
     "text": [
      "The time of execution is: 0.2041 minutes\n",
      "Model Training Complete\n"
     ]
    }
   ],
   "source": [
    "# Handle missing values in text columns\n",
    "for col in [\"prompt\", \"response_a\", \"response_b\"]:\n",
    "    training[col] = training[col].fillna(\"\")\n",
    "\n",
    "# Initialize vectorizers for each text field\n",
    "vectorizer_prompt = TfidfVectorizer(max_features=150)\n",
    "vectorizer_response_a = TfidfVectorizer(max_features=150)\n",
    "vectorizer_response_b = TfidfVectorizer(max_features=150)\n",
    "\n",
    "# Fit and transform training data\n",
    "temp_prompt = vectorizer_prompt.fit_transform(training[\"prompt\"])\n",
    "temp_response_a = vectorizer_response_a.fit_transform(training[\"response_a\"])\n",
    "temp_response_b = vectorizer_response_b.fit_transform(training[\"response_b\"])\n",
    "\n",
    "# Print vector dimensions\n",
    "print(\"Number of elements for the vectorizer representation for 'prompt':\", temp_prompt.shape)\n",
    "print(\"Number of elements for the vectorizer representation for 'response a':\", temp_response_a.shape)\n",
    "print(\"Number of elements for the vectorizer representation for 'response b':\", temp_response_b.shape)\n",
    "\n",
    "# Extract winner label from row\n",
    "def get_winner(row):\n",
    "    if row['winner_model_a'] == 1:\n",
    "        return 0\n",
    "    if row['winner_model_b'] == 1:\n",
    "        return 1\n",
    "    if row['winner_tie'] == 1:\n",
    "        return 2\n",
    "    return -1\n",
    "\n",
    "# Apply winner extraction\n",
    "training['winner'] = training.apply(get_winner, axis=1)\n",
    "train_y = training[\"winner\"].values\n",
    "\n",
    "# Concatenate feature arrays\n",
    "train_X = np.hstack([temp_prompt.toarray(), temp_response_a.toarray(), temp_response_b.toarray()])\n",
    "\n",
    "# Train logistic regression model\n",
    "start = datetime.now()\n",
    "model = LogisticRegression(max_iter=500, solver='saga')\n",
    "model.fit(train_X, train_y)\n",
    "end = datetime.now()\n",
    "\n",
    "# Print execution time\n",
    "execution_time = (end - start).total_seconds() / 60\n",
    "print(f\"The time of execution is: {execution_time:.4f} minutes\")\n",
    "print(\"Model Training Complete\")\n"
   ]
  },
  {
   "cell_type": "code",
   "execution_count": null,
   "metadata": {
    "execution": {
     "iopub.execute_input": "2025-05-26T18:35:22.964053Z",
     "iopub.status.busy": "2025-05-26T18:35:22.963631Z",
     "iopub.status.idle": "2025-05-26T18:35:23.180977Z",
     "shell.execute_reply": "2025-05-26T18:35:23.180061Z",
     "shell.execute_reply.started": "2025-05-26T18:35:22.964029Z"
    },
    "trusted": true
   },
   "outputs": [
    {
     "name": "stdout",
     "output_type": "stream",
     "text": [
      "Prediction Probabilities (columns: A | B | Tie):\n",
      "[[0.41028164 0.34037252 0.24934583]\n",
      " [0.21808251 0.54394018 0.23797731]\n",
      " [0.28465123 0.26706269 0.44828608]\n",
      " ...\n",
      " [0.26382313 0.49364982 0.24252704]\n",
      " [0.4053241  0.3090294  0.28564651]\n",
      " [0.54752323 0.17925833 0.27321845]]\n",
      "\n",
      "Accuracy: 0.4589\n"
     ]
    },
    {
     "data": {
      "image/png": "[encoded data removed]",
      "text/plain": [
       "<Figure size 600x500 with 2 Axes>"
      ]
     },
     "metadata": {},
     "output_type": "display_data"
    },
    {
     "name": "stdout",
     "output_type": "stream",
     "text": [
      "\n",
      "Validation Execution Time: 0.25 seconds\n"
     ]
    }
   ],
   "source": [
    "# Split data into training and validation sets\n",
    "train_X_train, train_X_val, train_y_train, train_y_val = train_test_split(\n",
    "    train_X, train_y, test_size=0.2, random_state=42\n",
    ")\n",
    "\n",
    "start = datetime.now()\n",
    "\n",
    "# Predict class labels and probabilities on validation set\n",
    "value_y_predict = model.predict(train_X_val)\n",
    "value_y_probabilities = model.predict_proba(train_X_val)\n",
    "\n",
    "print(\"Prediction Probabilities (columns: A | B | Tie):\")\n",
    "print(value_y_probabilities)\n",
    "\n",
    "# Calculate evaluation metrics\n",
    "cm = confusion_matrix(train_y_val, value_y_predict)\n",
    "accuracy = model.score(train_X_val, train_y_val)\n",
    "macro_precision = precision_score(train_y_val, value_y_predict, average='macro')\n",
    "macro_recall = recall_score(train_y_val, value_y_predict, average='macro')\n",
    "micro_precision = precision_score(train_y_val, value_y_predict, average='micro')\n",
    "micro_recall = recall_score(train_y_val, value_y_predict, average='micro')\n",
    "\n",
    "print(f\"\\nAccuracy: {accuracy:.4f}\")\n",
    "\n",
    "# Visualize confusion matrix\n",
    "plt.figure(figsize=(6, 5))\n",
    "sns.heatmap(cm, annot=True, fmt='d', cmap='Blues', \n",
    "            xticklabels=['A wins', 'B wins', 'Tie'], \n",
    "            yticklabels=['A wins', 'B wins', 'Tie'])\n",
    "plt.title(\"Confusion Matrix\")\n",
    "plt.xlabel(\"Predicted\")\n",
    "plt.ylabel(\"Actual\")\n",
    "plt.tight_layout()\n",
    "plt.show()\n",
    "\n",
    "end = datetime.now()\n",
    "execution_time = (end - start).total_seconds()\n",
    "print(f\"\\nValidation Execution Time: {execution_time:.2f} seconds\")\n"
   ]
  },
  {
   "cell_type": "code",
   "execution_count": null,
   "metadata": {
    "execution": {
     "iopub.execute_input": "2025-05-26T18:35:44.483802Z",
     "iopub.status.busy": "2025-05-26T18:35:44.483453Z",
     "iopub.status.idle": "2025-05-26T18:35:44.497113Z",
     "shell.execute_reply": "2025-05-26T18:35:44.496111Z",
     "shell.execute_reply.started": "2025-05-26T18:35:44.483772Z"
    },
    "trusted": true
   },
   "outputs": [
    {
     "name": "stdout",
     "output_type": "stream",
     "text": [
      "Model Log loss: 1.046507922446967\n"
     ]
    }
   ],
   "source": [
    "model_log_loss = log_loss(train_y_val, value_y_probabilities)\n",
    "print('Model Log loss:', model_log_loss)"
   ]
  },
  {
   "cell_type": "code",
   "execution_count": 28,
   "metadata": {
    "execution": {
     "iopub.execute_input": "2025-05-26T18:35:57.337338Z",
     "iopub.status.busy": "2025-05-26T18:35:57.336921Z",
     "iopub.status.idle": "2025-05-26T18:35:57.352768Z",
     "shell.execute_reply": "2025-05-26T18:35:57.351799Z",
     "shell.execute_reply.started": "2025-05-26T18:35:57.337314Z"
    },
    "trusted": true
   },
   "outputs": [
    {
     "name": "stdout",
     "output_type": "stream",
     "text": [
      "Model Winner Prediction Probabilities:\n",
      "\n",
      "   Prob_A_Wins  Prob_B_Wins  Prob_Tie\n",
      "0       0.2181       0.2075    0.5744\n",
      "1       0.4542       0.2624    0.2834\n",
      "2       0.2665       0.3806    0.3529\n"
     ]
    }
   ],
   "source": [
    "# model prediction\n",
    "# transform test data using the trained vectorizers\n",
    "temp_test_prompt = vectorizer_prompt.transform(test[\"prompt\"])\n",
    "temp_test_response_a = vectorizer_response_a.transform(test[\"response_a\"])\n",
    "temp_test_response_b = vectorizer_response_b.transform(test[\"response_b\"])\n",
    "\n",
    "# concatenate all transformed fields to form the final test feature matrix\n",
    "test_X = np.hstack([\n",
    "    temp_test_prompt.toarray(),\n",
    "    temp_test_response_a.toarray(),\n",
    "    temp_test_response_b.toarray()\n",
    "])\n",
    "\n",
    "# predict class probabilities on the test data\n",
    "value_test_y_probabilities = model.predict_proba(test_X)\n",
    "\n",
    "# create a DataFrame for better visualization\n",
    "proba_df = pd.DataFrame(\n",
    "    np.round(value_test_y_probabilities, 4),\n",
    "    columns=[\"Prob_A_Wins\", \"Prob_B_Wins\", \"Prob_Tie\"]\n",
    ")\n",
    "\n",
    "print(\"Model Winner Prediction Probabilities:\\n\")\n",
    "print(proba_df)\n"
   ]
  }
 ],
 "metadata": {
  "kaggle": {
   "accelerator": "none",
   "dataSources": [
    {
     "databundleVersionId": 9809560,
     "sourceId": 86518,
     "sourceType": "competition"
    },
    {
     "datasetId": 7419671,
     "sourceId": 11813172,
     "sourceType": "datasetVersion"
    },
    {
     "datasetId": 7419681,
     "sourceId": 11813182,
     "sourceType": "datasetVersion"
    }
   ],
   "dockerImageVersionId": 31040,
   "isGpuEnabled": false,
   "isInternetEnabled": false,
   "language": "python",
   "sourceType": "notebook"
  },
  "kernelspec": {
   "display_name": "base",
   "language": "python",
   "name": "python3"
  },
  "language_info": {
   "codemirror_mode": {
    "name": "ipython",
    "version": 3
   },
   "file_extension": ".py",
   "mimetype": "text/x-python",
   "name": "python",
   "nbconvert_exporter": "python",
   "pygments_lexer": "ipython3",
   "version": "3.12.7"
  }
 },
 "nbformat": 4,
 "nbformat_minor": 4
}
